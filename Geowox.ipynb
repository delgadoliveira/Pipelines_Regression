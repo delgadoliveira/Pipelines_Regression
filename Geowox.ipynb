{
 "cells": [
  {
   "cell_type": "markdown",
   "metadata": {},
   "source": [
    "In this notebook, an Automed Valuation Model for prediction of house prices.\n",
    "\n",
    "Initially, database was enriched by information provided from OpenStreetMap (which among others informed about, road, county). Next, the sold price (target feature) was processed to remove outliers by application of IQR as criteria for outlier detection. Then four pipelines are joined to composed feature preprocessing step: \n",
    "\n",
    "i) **numerical pipeline** replaces missing values replaced by median and scale of numerical features. \n",
    "\n",
    "ii) **categorical pipeline** replaces missing values by most frequent and applies one hot encode on non-numeric features. \n",
    "\n",
    "iii) **text pipeline** process postal_address through vectorization in a bag-of-words approch.\n",
    "\n",
    "iv) **date pipeline** extracts temporal information from feature sold date such as year, day of week. \n",
    "\n",
    "Finally, the resultant feature preprocessing pipeline serve as input for a tree gradient boosting model which is trained to predict house prices. The last step used for improving model performance is the **hyperparameter optimization** based on bayesian search which search for the best set of hyperparameters.\n"
   ]
  },
  {
   "cell_type": "markdown",
   "metadata": {},
   "source": [
    "#### Import Libraries"
   ]
  },
  {
   "cell_type": "code",
   "execution_count": 23,
   "metadata": {},
   "outputs": [],
   "source": [
    "import pandas as pd\n",
    "import numpy as np\n",
    "from lightgbm import LGBMRegressor\n",
    "from sklearn.pipeline import Pipeline\n",
    "from sklearn.impute import SimpleImputer\n",
    "from sklearn.model_selection import train_test_split\n",
    "from sklearn.preprocessing import OneHotEncoder, StandardScaler\n",
    "from sklearn.pipeline import FeatureUnion\n",
    "from sklearn.compose import ColumnTransformer\n",
    "from sklearn.feature_extraction.text import CountVectorizer, TfidfVectorizer\n",
    "from lightgbm import LGBMRegressor\n",
    "import matplotlib.pyplot as plt\n",
    "import seaborn as sns\n",
    "%matplotlib inline\n",
    "\n",
    "from metrics import get_MdPE, get_MdAPE, get_PPE, scorer_get_PPE\n",
    "from utils import (\n",
    "    TextSelector, NumberWords, Tokenizer, DateProcess, \n",
    "    QuantizeCat, remove_outliers_iqr_label\n",
    ")\n",
    "\n",
    "import warnings\n",
    "warnings.filterwarnings(\"ignore\")\n",
    "\n",
    "pd.set_option('display.max_columns', 1000)"
   ]
  },
  {
   "cell_type": "markdown",
   "metadata": {},
   "source": [
    "#### Read dataset (split train test)"
   ]
  },
  {
   "cell_type": "code",
   "execution_count": 14,
   "metadata": {},
   "outputs": [],
   "source": [
    "df = pd.read_csv('new_dataset.csv')\n",
    "X = df.drop(columns=['id', 'sold_price'])\n",
    "y = df['sold_price']\n",
    "X_train, X_test, y_train, y_test = train_test_split(X, y, test_size=0.20, random_state=42)"
   ]
  },
  {
   "cell_type": "markdown",
   "metadata": {},
   "source": [
    "#### Deal with outliers in label"
   ]
  },
  {
   "cell_type": "code",
   "execution_count": 15,
   "metadata": {},
   "outputs": [],
   "source": [
    "y_train = remove_outliers_iqr_label(y_train)"
   ]
  },
  {
   "cell_type": "markdown",
   "metadata": {},
   "source": [
    "#### Define pipeline for numerical features"
   ]
  },
  {
   "cell_type": "code",
   "execution_count": 16,
   "metadata": {},
   "outputs": [],
   "source": [
    "num_features = ['sqm_value', 'yoc_value', 'storey_value', 'beds_value', 'new_home_ind']\n",
    "\n",
    "numeric_transformer = Pipeline(steps=[\n",
    "    ('imputer', SimpleImputer(strategy='median')),\n",
    "    ('scaler', StandardScaler())])"
   ]
  },
  {
   "cell_type": "markdown",
   "metadata": {},
   "source": [
    "#### Define pipeline for categorical features"
   ]
  },
  {
   "cell_type": "code",
   "execution_count": 17,
   "metadata": {},
   "outputs": [],
   "source": [
    "cat_features = ['thoroughfare_id', 'census2016_small_area_geogid',\n",
    "                'eircode_area_code','post_county_name', \n",
    "                'building_property_subtype_code', \n",
    "                'road', 'city_district', 'city', 'district', \n",
    "                'state_district', 'postcode']\n",
    "\n",
    "categorical_transformer = Pipeline(steps=[\n",
    "    ('imputer', SimpleImputer(strategy='most_frequent', fill_value='missing')),\n",
    "    ('onehot', OneHotEncoder(categories='auto', handle_unknown='ignore'))\n",
    "    ])"
   ]
  },
  {
   "cell_type": "markdown",
   "metadata": {},
   "source": [
    "#### Compose feature preprocessing pipelines and add text pipeline"
   ]
  },
  {
   "cell_type": "code",
   "execution_count": 18,
   "metadata": {},
   "outputs": [],
   "source": [
    "from nltk.corpus import stopwords \n",
    "from sklearn.decomposition import TruncatedSVD\n",
    "from sklearn.preprocessing import StandardScaler\n",
    "    \n",
    "stop_words = list(stopwords.words('english'))\n",
    "\n",
    "pipe = Pipeline([\n",
    "    ('features', FeatureUnion([\n",
    "        ('dateproc', Pipeline([\n",
    "            ('dateprocess', DateProcess('sold_date')),\n",
    "            ('dscaler', StandardScaler()),\n",
    "        ])),\n",
    "#         ('text', Pipeline([\n",
    "#            ('colext', TextSelector('postal_address')),\n",
    "#            ('tfidf', TfidfVectorizer(tokenizer=Tokenizer, stop_words=stop_words,              \n",
    "#                                       min_df=.0025, max_df=0.5, ngram_range=(1,4))),\n",
    "#            ('svd', TruncatedSVD(algorithm='randomized', n_components=300)),\n",
    "#         ])),\n",
    "        ('ngram',  Pipeline([\n",
    "            ('colext2', TextSelector('postal_address')),\n",
    "            ('Ngram', CountVectorizer(ngram_range=(1, 4), analyzer='char')),\n",
    "            ])),\n",
    "#         ('words', Pipeline([\n",
    "#             ('wordext', NumberWords('postal_address')),\n",
    "#             ('wscaler', StandardScaler()),\n",
    "#         ])),\n",
    "        ('additional', ColumnTransformer(\n",
    "            transformers=[\n",
    "                ('cat', categorical_transformer, cat_features),\n",
    "                ('num', numeric_transformer, num_features),\n",
    "            ])),\n",
    "        \n",
    "    ]))\n",
    "])"
   ]
  },
  {
   "cell_type": "markdown",
   "metadata": {},
   "source": [
    "#### Train regression model "
   ]
  },
  {
   "cell_type": "code",
   "execution_count": 19,
   "metadata": {},
   "outputs": [],
   "source": [
    "params = {\n",
    "    'n_estimators': 1000,\n",
    "    'learning_rate': 0.05,\n",
    "    'sub_feature': 0.5,\n",
    "    'num_leaves': 31,\n",
    "}\n",
    "\n",
    "\n",
    "clf = Pipeline(steps=[('preprocessor', pipe),\n",
    "                      ('regressor', LGBMRegressor(**params)),\n",
    "                      ])  \n",
    "clf.fit(X_train,y_train);"
   ]
  },
  {
   "cell_type": "markdown",
   "metadata": {},
   "source": [
    "#### Test dataset prediction"
   ]
  },
  {
   "cell_type": "code",
   "execution_count": 20,
   "metadata": {},
   "outputs": [],
   "source": [
    "pred = clf.predict(X_test)"
   ]
  },
  {
   "cell_type": "markdown",
   "metadata": {},
   "source": [
    "#### Check model performance"
   ]
  },
  {
   "cell_type": "code",
   "execution_count": 21,
   "metadata": {},
   "outputs": [
    {
     "name": "stdout",
     "output_type": "stream",
     "text": [
      "MdPE: -1.0% -- between +/- 3%\n",
      "MAdPE: 16.0% -- less than 10%\n",
      "PPE10: 32.0% -- 70% or greater\n",
      "PPE20: 59.0% -- 85% or greater\n"
     ]
    }
   ],
   "source": [
    "print(f'MdPE: {100*round(get_MdPE(pred, y_test),2)}% -- between +/- 3%')\n",
    "print(f'MAdPE: {100*round(get_MdAPE(pred, y_test),2)}% -- less than 10%')\n",
    "print(f'PPE10: {100*round(get_PPE(pred, y_test, 0.1),2)}% -- 70% or greater')\n",
    "print(f'PPE20: {100*round(get_PPE(pred, y_test, 0.2),2)}% -- 85% or greater')"
   ]
  },
  {
   "cell_type": "markdown",
   "metadata": {},
   "source": [
    "#### Model Feature Importance"
   ]
  },
  {
   "cell_type": "code",
   "execution_count": 34,
   "metadata": {},
   "outputs": [
    {
     "data": {
      "image/png": "[encoded data removed]",
      "text/plain": [
       "<Figure size 1440x720 with 1 Axes>"
      ]
     },
     "metadata": {
      "needs_background": "light"
     },
     "output_type": "display_data"
    }
   ],
   "source": [
    "feature_imp = pd.DataFrame(sorted(zip(clf['regressor'].feature_importances_,X.columns)), columns=['Value','Feature'])\n",
    "feature_imp= feature_imp[feature_imp['Value']>40]\n",
    "fig, ax = plt.subplots(figsize=(20,10))\n",
    "sns.barplot(x=\"Value\", y=\"Feature\", data=feature_imp.sort_values(by=\"Value\", ascending=False))\n",
    "plt.title('LightGBM Features ', fontsize=12)\n",
    "ax.tick_params(axis='y', which='major', labelsize=13)\n",
    "plt.tight_layout()\n",
    "plt.show()"
   ]
  },
  {
   "cell_type": "markdown",
   "metadata": {},
   "source": [
    "#### Hyperparameters optimization: Baysian strategy\n",
    "\n",
    "Optimization based on PPE20 metric."
   ]
  },
  {
   "cell_type": "markdown",
   "metadata": {},
   "source": [
    "##### Cost Function"
   ]
  },
  {
   "cell_type": "code",
   "execution_count": 10,
   "metadata": {},
   "outputs": [],
   "source": [
    "from hyperopt import fmin, tpe, hp, anneal, Trials\n",
    "from hyperopt.pyll import scope\n",
    "from sklearn.metrics import make_scorer\n",
    "from sklearn.model_selection import KFold, cross_val_score\n",
    "\n",
    "\n",
    "kf = KFold(n_splits=10, random_state=42)\n",
    "def obj_function(params, random_state=42, cv=kf, X=X_train, y=y_train):\n",
    "    params = {\n",
    "        'n_estimators': int(params['n_estimators']), \n",
    "        'learning_rate': params['learning_rate'],\n",
    "        'num_leaves': int(params['num_leaves']),\n",
    "        'subsample_for_bin': int(params['subsample_for_bin']), \n",
    "        'min_child_samples': int(params['min_child_samples']),\n",
    "        'reg_alpha': params['reg_alpha'],\n",
    "        'reg_lambda': params['reg_lambda'],\n",
    "    }\n",
    "    \n",
    "    pipe.fit(X)\n",
    "    X = pipe.transform(X)\n",
    "    \n",
    "\n",
    "    model = LGBMRegressor(random_state=random_state, **params)    \n",
    "    my_scorer = make_scorer(scorer_get_PPE, greater_is_better=True)\n",
    "    score = -cross_val_score(model, X, y, cv=cv, scoring=my_scorer, n_jobs=-1).mean()\n",
    "\n",
    "    return score"
   ]
  },
  {
   "cell_type": "markdown",
   "metadata": {},
   "source": [
    "##### Searching procedure\n"
   ]
  },
  {
   "cell_type": "code",
   "execution_count": 11,
   "metadata": {},
   "outputs": [
    {
     "name": "stdout",
     "output_type": "stream",
     "text": [
      "100%|████████████████████████████████████████████████| 200/200 [45:50<00:00, 13.75s/it, best loss: -0.6359999999999999]\n",
      "{'learning_rate': 0.026759502280541275, 'min_child_samples': 20.0, 'n_estimators': 535.0, 'num_leaves': 36.0, 'reg_alpha': 0.9558241401836571, 'reg_lambda': 0.19811889488104195, 'subsample_for_bin': 140000.0}\n",
      "Wall time: 45min 50s\n"
     ]
    }
   ],
   "source": [
    "%%time\n",
    "space = {\n",
    "    'n_estimators': hp.quniform('n_estimators', 100, 1000, 1),\n",
    "    'num_leaves': scope.int(hp.quniform('num_leaves', 30, 150, 1)),\n",
    "    'learning_rate': hp.loguniform('learning_rate', np.log(0.01), np.log(0.2)),\n",
    "    'subsample_for_bin': scope.int(hp.quniform('subsample_for_bin', 20000, 300000, 20000)),\n",
    "    'min_child_samples': scope.int(hp.quniform('min_child_samples', 20, 500, 5)),\n",
    "    'reg_alpha': hp.uniform('reg_alpha', 0.0, 1.0),\n",
    "    'reg_lambda': hp.uniform('reg_lambda', 0.0, 1.0)\n",
    "}\n",
    "\n",
    "trials = Trials()\n",
    "\n",
    "best=fmin(fn=obj_function, # function to optimize\n",
    "          space=space, \n",
    "          algo=tpe.suggest, # optimization algorithm, hyperotp will select its parameters automatically\n",
    "          max_evals=200, # maximum number of iterations\n",
    "          trials=trials, # logging\n",
    "          rstate=np.random.RandomState(42) # fixing random state for the reproducibility\n",
    "         )\n",
    "print(best)"
   ]
  }
 ],
 "metadata": {
  "kernelspec": {
   "display_name": "Python [conda env:.conda-study]",
   "language": "python",
   "name": "conda-env-.conda-study-py"
  },
  "language_info": {
   "codemirror_mode": {
    "name": "ipython",
    "version": 3
   },
   "file_extension": ".py",
   "mimetype": "text/x-python",
   "name": "python",
   "nbconvert_exporter": "python",
   "pygments_lexer": "ipython3",
   "version": "3.7.7"
  },
  "toc": {
   "base_numbering": 1,
   "nav_menu": {},
   "number_sections": true,
   "sideBar": true,
   "skip_h1_title": false,
   "title_cell": "Table of Contents",
   "title_sidebar": "Contents",
   "toc_cell": false,
   "toc_position": {},
   "toc_section_display": true,
   "toc_window_display": false
  }
 },
 "nbformat": 4,
 "nbformat_minor": 2
}
